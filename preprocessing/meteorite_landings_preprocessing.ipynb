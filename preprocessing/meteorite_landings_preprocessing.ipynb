{
 "cells": [
  {
   "cell_type": "markdown",
   "metadata": {
    "collapsed": true,
    "pycharm": {
     "name": "#%% md\n"
    }
   },
   "source": [
    "# Data Visualization semester project\n",
    "## Meteorite landings data pre-processing\n",
    "\n",
    "#### Libraries:"
   ]
  },
  {
   "cell_type": "code",
   "execution_count": 69,
   "outputs": [],
   "source": [
    "import pandas as pd"
   ],
   "metadata": {
    "collapsed": false,
    "pycharm": {
     "name": "#%%\n"
    }
   }
  },
  {
   "cell_type": "markdown",
   "source": [
    "Import the meteorite landings dataset from the NASA website."
   ],
   "metadata": {
    "collapsed": false,
    "pycharm": {
     "name": "#%% md\n"
    }
   }
  },
  {
   "cell_type": "code",
   "execution_count": 99,
   "outputs": [],
   "source": [
    "URL: str =\"https://data.nasa.gov/api/views/gh4g-9sfh/rows.csv?accessType=DOWNLOAD\"\n",
    "df: pd.DataFrame = pd.read_csv(URL)"
   ],
   "metadata": {
    "collapsed": false,
    "pycharm": {
     "name": "#%%\n"
    }
   }
  },
  {
   "cell_type": "markdown",
   "source": [
    "### Pre processing:\n",
    "\n",
    "#### Brief exploration"
   ],
   "metadata": {
    "collapsed": false,
    "pycharm": {
     "name": "#%% md\n"
    }
   }
  },
  {
   "cell_type": "code",
   "execution_count": 100,
   "outputs": [
    {
     "name": "stdout",
     "output_type": "stream",
     "text": [
      "(45716, 10)\n"
     ]
    },
    {
     "data": {
      "text/plain": "name            object\nid               int64\nnametype        object\nrecclass        object\nmass (g)       float64\nfall            object\nyear            object\nreclat         float64\nreclong        float64\nGeoLocation     object\ndtype: object"
     },
     "execution_count": 100,
     "metadata": {},
     "output_type": "execute_result"
    }
   ],
   "source": [
    "print(df.shape)\n",
    "df.dtypes"
   ],
   "metadata": {
    "collapsed": false,
    "pycharm": {
     "name": "#%%\n"
    }
   }
  },
  {
   "cell_type": "code",
   "execution_count": 101,
   "outputs": [
    {
     "data": {
      "text/plain": "       name   id nametype     recclass  mass (g)  fall  \\\n0    Aachen    1    Valid           L5      21.0  Fell   \n1    Aarhus    2    Valid           H6     720.0  Fell   \n2      Abee    6    Valid          EH4  107000.0  Fell   \n3  Acapulco   10    Valid  Acapulcoite    1914.0  Fell   \n4   Achiras  370    Valid           L6     780.0  Fell   \n\n                     year    reclat    reclong           GeoLocation  \n0  01/01/1880 12:00:00 AM  50.77500    6.08333     (50.775, 6.08333)  \n1  01/01/1951 12:00:00 AM  56.18333   10.23333  (56.18333, 10.23333)  \n2  01/01/1952 12:00:00 AM  54.21667 -113.00000    (54.21667, -113.0)  \n3  01/01/1976 12:00:00 AM  16.88333  -99.90000     (16.88333, -99.9)  \n4  01/01/1902 12:00:00 AM -33.16667  -64.95000   (-33.16667, -64.95)  ",
      "text/html": "<div>\n<style scoped>\n    .dataframe tbody tr th:only-of-type {\n        vertical-align: middle;\n    }\n\n    .dataframe tbody tr th {\n        vertical-align: top;\n    }\n\n    .dataframe thead th {\n        text-align: right;\n    }\n</style>\n<table border=\"1\" class=\"dataframe\">\n  <thead>\n    <tr style=\"text-align: right;\">\n      <th></th>\n      <th>name</th>\n      <th>id</th>\n      <th>nametype</th>\n      <th>recclass</th>\n      <th>mass (g)</th>\n      <th>fall</th>\n      <th>year</th>\n      <th>reclat</th>\n      <th>reclong</th>\n      <th>GeoLocation</th>\n    </tr>\n  </thead>\n  <tbody>\n    <tr>\n      <th>0</th>\n      <td>Aachen</td>\n      <td>1</td>\n      <td>Valid</td>\n      <td>L5</td>\n      <td>21.0</td>\n      <td>Fell</td>\n      <td>01/01/1880 12:00:00 AM</td>\n      <td>50.77500</td>\n      <td>6.08333</td>\n      <td>(50.775, 6.08333)</td>\n    </tr>\n    <tr>\n      <th>1</th>\n      <td>Aarhus</td>\n      <td>2</td>\n      <td>Valid</td>\n      <td>H6</td>\n      <td>720.0</td>\n      <td>Fell</td>\n      <td>01/01/1951 12:00:00 AM</td>\n      <td>56.18333</td>\n      <td>10.23333</td>\n      <td>(56.18333, 10.23333)</td>\n    </tr>\n    <tr>\n      <th>2</th>\n      <td>Abee</td>\n      <td>6</td>\n      <td>Valid</td>\n      <td>EH4</td>\n      <td>107000.0</td>\n      <td>Fell</td>\n      <td>01/01/1952 12:00:00 AM</td>\n      <td>54.21667</td>\n      <td>-113.00000</td>\n      <td>(54.21667, -113.0)</td>\n    </tr>\n    <tr>\n      <th>3</th>\n      <td>Acapulco</td>\n      <td>10</td>\n      <td>Valid</td>\n      <td>Acapulcoite</td>\n      <td>1914.0</td>\n      <td>Fell</td>\n      <td>01/01/1976 12:00:00 AM</td>\n      <td>16.88333</td>\n      <td>-99.90000</td>\n      <td>(16.88333, -99.9)</td>\n    </tr>\n    <tr>\n      <th>4</th>\n      <td>Achiras</td>\n      <td>370</td>\n      <td>Valid</td>\n      <td>L6</td>\n      <td>780.0</td>\n      <td>Fell</td>\n      <td>01/01/1902 12:00:00 AM</td>\n      <td>-33.16667</td>\n      <td>-64.95000</td>\n      <td>(-33.16667, -64.95)</td>\n    </tr>\n  </tbody>\n</table>\n</div>"
     },
     "execution_count": 101,
     "metadata": {},
     "output_type": "execute_result"
    }
   ],
   "source": [
    "df.head()"
   ],
   "metadata": {
    "collapsed": false,
    "pycharm": {
     "name": "#%%\n"
    }
   }
  },
  {
   "cell_type": "markdown",
   "source": [
    "We have:\n",
    "- 6 categorical variables of interest: id, name, nametype, recclass fall and year.\n",
    "    - if there are no duplicate names id does not provide added information.\n",
    "    - year is stored in the wrong format\n",
    "- 3 numerical variables of interest: mass, longitude and latitude.\n",
    "    - mass does not follow the naming convention of the rest of the dataset.\n",
    "    - GeoLocation does not contain additional information."
   ],
   "metadata": {
    "collapsed": false,
    "pycharm": {
     "name": "#%% md\n"
    }
   }
  },
  {
   "cell_type": "code",
   "execution_count": 102,
   "outputs": [
    {
     "data": {
      "text/plain": "False"
     },
     "execution_count": 102,
     "metadata": {},
     "output_type": "execute_result"
    }
   ],
   "source": [
    "df['name'].duplicated().any()"
   ],
   "metadata": {
    "collapsed": false,
    "pycharm": {
     "name": "#%%\n"
    }
   }
  },
  {
   "cell_type": "markdown",
   "source": [
    "Since the name uniquely identifies the meteorite we can drop the id together with GeoLocation"
   ],
   "metadata": {
    "collapsed": false,
    "pycharm": {
     "name": "#%% md\n"
    }
   }
  },
  {
   "cell_type": "code",
   "execution_count": 74,
   "outputs": [],
   "source": [
    "df.drop(['id', 'GeoLocation'], axis='columns', inplace=True)"
   ],
   "metadata": {
    "collapsed": false,
    "pycharm": {
     "name": "#%%\n"
    }
   }
  },
  {
   "cell_type": "markdown",
   "source": [
    "renaming mass (g) to mass and giving more meaningful names to nametype,\n",
    "which represents whether the meteorite landed as a meteorite or is now a\n",
    "relic after landing, renamed to status and fall, which represents how the meteorite\n",
    "was detected, while falling or found, to detection method.\n",
    "\n",
    "Renaming reclat and reclong and recclass to latitude and longitude and recommended\n",
    "classification, a standard on how to categorize meteorites."
   ],
   "metadata": {
    "collapsed": false,
    "pycharm": {
     "name": "#%% md\n"
    }
   }
  },
  {
   "cell_type": "code",
   "execution_count": 104,
   "outputs": [
    {
     "data": {
      "text/plain": "       name   id status recommended classification      mass detection method  \\\n0    Aachen    1  Valid                         L5      21.0             Fell   \n1    Aarhus    2  Valid                         H6     720.0             Fell   \n2      Abee    6  Valid                        EH4  107000.0             Fell   \n3  Acapulco   10  Valid                Acapulcoite    1914.0             Fell   \n4   Achiras  370  Valid                         L6     780.0             Fell   \n\n       year fell or found  latitude  longitude           GeoLocation  \n0  01/01/1880 12:00:00 AM  50.77500    6.08333     (50.775, 6.08333)  \n1  01/01/1951 12:00:00 AM  56.18333   10.23333  (56.18333, 10.23333)  \n2  01/01/1952 12:00:00 AM  54.21667 -113.00000    (54.21667, -113.0)  \n3  01/01/1976 12:00:00 AM  16.88333  -99.90000     (16.88333, -99.9)  \n4  01/01/1902 12:00:00 AM -33.16667  -64.95000   (-33.16667, -64.95)  ",
      "text/html": "<div>\n<style scoped>\n    .dataframe tbody tr th:only-of-type {\n        vertical-align: middle;\n    }\n\n    .dataframe tbody tr th {\n        vertical-align: top;\n    }\n\n    .dataframe thead th {\n        text-align: right;\n    }\n</style>\n<table border=\"1\" class=\"dataframe\">\n  <thead>\n    <tr style=\"text-align: right;\">\n      <th></th>\n      <th>name</th>\n      <th>id</th>\n      <th>status</th>\n      <th>recommended classification</th>\n      <th>mass</th>\n      <th>detection method</th>\n      <th>year fell or found</th>\n      <th>latitude</th>\n      <th>longitude</th>\n      <th>GeoLocation</th>\n    </tr>\n  </thead>\n  <tbody>\n    <tr>\n      <th>0</th>\n      <td>Aachen</td>\n      <td>1</td>\n      <td>Valid</td>\n      <td>L5</td>\n      <td>21.0</td>\n      <td>Fell</td>\n      <td>01/01/1880 12:00:00 AM</td>\n      <td>50.77500</td>\n      <td>6.08333</td>\n      <td>(50.775, 6.08333)</td>\n    </tr>\n    <tr>\n      <th>1</th>\n      <td>Aarhus</td>\n      <td>2</td>\n      <td>Valid</td>\n      <td>H6</td>\n      <td>720.0</td>\n      <td>Fell</td>\n      <td>01/01/1951 12:00:00 AM</td>\n      <td>56.18333</td>\n      <td>10.23333</td>\n      <td>(56.18333, 10.23333)</td>\n    </tr>\n    <tr>\n      <th>2</th>\n      <td>Abee</td>\n      <td>6</td>\n      <td>Valid</td>\n      <td>EH4</td>\n      <td>107000.0</td>\n      <td>Fell</td>\n      <td>01/01/1952 12:00:00 AM</td>\n      <td>54.21667</td>\n      <td>-113.00000</td>\n      <td>(54.21667, -113.0)</td>\n    </tr>\n    <tr>\n      <th>3</th>\n      <td>Acapulco</td>\n      <td>10</td>\n      <td>Valid</td>\n      <td>Acapulcoite</td>\n      <td>1914.0</td>\n      <td>Fell</td>\n      <td>01/01/1976 12:00:00 AM</td>\n      <td>16.88333</td>\n      <td>-99.90000</td>\n      <td>(16.88333, -99.9)</td>\n    </tr>\n    <tr>\n      <th>4</th>\n      <td>Achiras</td>\n      <td>370</td>\n      <td>Valid</td>\n      <td>L6</td>\n      <td>780.0</td>\n      <td>Fell</td>\n      <td>01/01/1902 12:00:00 AM</td>\n      <td>-33.16667</td>\n      <td>-64.95000</td>\n      <td>(-33.16667, -64.95)</td>\n    </tr>\n  </tbody>\n</table>\n</div>"
     },
     "execution_count": 104,
     "metadata": {},
     "output_type": "execute_result"
    }
   ],
   "source": [
    "df.rename(columns={'mass (g)': 'mass',\n",
    "                   'nametype': 'status',\n",
    "                   'fall': 'detection method',\n",
    "                   'year': 'year fell or found',\n",
    "                   'reclat': 'latitude',\n",
    "                   'reclong': 'longitude',\n",
    "                   'recclass': 'recommended classification'}, inplace=True)\n",
    "df.head()"
   ],
   "metadata": {
    "collapsed": false,
    "pycharm": {
     "name": "#%%\n"
    }
   }
  },
  {
   "cell_type": "markdown",
   "source": [
    "Fixing the years"
   ],
   "metadata": {
    "collapsed": false,
    "pycharm": {
     "name": "#%% md\n"
    }
   }
  },
  {
   "cell_type": "code",
   "execution_count": 105,
   "outputs": [
    {
     "data": {
      "text/plain": "0    1880\n1    1951\n2    1952\n3    1976\n4    1902\nName: year fell or found, dtype: object"
     },
     "execution_count": 105,
     "metadata": {},
     "output_type": "execute_result"
    }
   ],
   "source": [
    "from numpy.array_api import astype\n",
    "\n",
    "df[\"year fell or found\"] = df[\"year fell or found\"].str[6:10]\n",
    "\n",
    "df[\"year fell or found\"].head()"
   ],
   "metadata": {
    "collapsed": false,
    "pycharm": {
     "name": "#%%\n"
    }
   }
  },
  {
   "cell_type": "markdown",
   "source": [
    "Exploring the missing values:"
   ],
   "metadata": {
    "collapsed": false,
    "pycharm": {
     "name": "#%% md\n"
    }
   }
  },
  {
   "cell_type": "code",
   "execution_count": 60,
   "outputs": [
    {
     "data": {
      "text/plain": "name                             0\nstatus                           0\nrecommended classification       0\nmass                           131\ndetection method                 0\nyear fell or found             291\nlatitude                      7315\nlongitude                     7315\ndtype: int64"
     },
     "execution_count": 60,
     "metadata": {},
     "output_type": "execute_result"
    }
   ],
   "source": [
    "df.isnull().sum()"
   ],
   "metadata": {
    "collapsed": false,
    "pycharm": {
     "name": "#%%\n"
    }
   }
  },
  {
   "cell_type": "markdown",
   "source": [
    "Our visualization requires geolocation, hence we drop the meteorites with\n",
    "missing latitude and longitude coordinates."
   ],
   "metadata": {
    "collapsed": false
   }
  },
  {
   "cell_type": "code",
   "execution_count": 61,
   "outputs": [
    {
     "data": {
      "text/plain": "name                            0\nstatus                          0\nrecommended classification      0\nmass                          119\ndetection method                0\nyear fell or found            178\nlatitude                        0\nlongitude                       0\ndtype: int64"
     },
     "execution_count": 61,
     "metadata": {},
     "output_type": "execute_result"
    }
   ],
   "source": [
    "df = df[df['latitude'].notna()]\n",
    "df.isnull().sum()"
   ],
   "metadata": {
    "collapsed": false,
    "pycharm": {
     "name": "#%%\n"
    }
   }
  },
  {
   "cell_type": "code",
   "execution_count": 62,
   "outputs": [
    {
     "data": {
      "text/plain": "(38401, 8)"
     },
     "execution_count": 62,
     "metadata": {},
     "output_type": "execute_result"
    }
   ],
   "source": [
    "df.shape"
   ],
   "metadata": {
    "collapsed": false,
    "pycharm": {
     "name": "#%%\n"
    }
   }
  },
  {
   "cell_type": "markdown",
   "source": [
    "Year and mass are not as important for us, hence we decided to keep those rows.\n",
    "Saving the dataset:"
   ],
   "metadata": {
    "collapsed": false,
    "pycharm": {
     "name": "#%% md\n"
    }
   }
  },
  {
   "cell_type": "code",
   "execution_count": 63,
   "outputs": [],
   "source": [
    "df.to_csv(\"meteorite_landings_preprocessed.csv\", index=False)"
   ],
   "metadata": {
    "collapsed": false,
    "pycharm": {
     "name": "#%%\n"
    }
   }
  },
  {
   "cell_type": "markdown",
   "source": [
    "## Below we show our aborted attempt to geo-locate the landing sites by country.\n",
    "#### Assigning an address to each meteorite landing found by the geo-locator with its coordinates.\n",
    "\n",
    "##### Connection done using GeoPy's git-hub repository code:\n",
    "https://github.com/geopy/geopy/blob/master/geopy/geocoders/mapbox.py"
   ],
   "metadata": {
    "collapsed": false,
    "pycharm": {
     "name": "#%% md\n"
    }
   }
  },
  {
   "cell_type": "code",
   "execution_count": 64,
   "outputs": [],
   "source": [
    "from functools import partial\n",
    "from urllib.parse import quote, urlencode\n",
    "\n",
    "from geopy.geocoders.base import DEFAULT_SENTINEL, Geocoder\n",
    "from geopy.location import Location\n",
    "from geopy.util import logger\n",
    "\n",
    "__all__ = (\"MapBox\", )\n",
    "\n",
    "\n",
    "class MapBox(Geocoder):\n",
    "    \"\"\"Geocoder using the Mapbox API.\n",
    "    Documentation at:\n",
    "        https://www.mapbox.com/api-documentation/\n",
    "    \"\"\"\n",
    "\n",
    "    api_path = '/geocoding/v5/mapbox.places/%(query)s.json/'\n",
    "\n",
    "    def __init__(\n",
    "            self,\n",
    "            api_key,\n",
    "            *,\n",
    "            scheme=None,\n",
    "            timeout=DEFAULT_SENTINEL,\n",
    "            proxies=DEFAULT_SENTINEL,\n",
    "            user_agent=None,\n",
    "            ssl_context=DEFAULT_SENTINEL,\n",
    "            adapter_factory=None,\n",
    "            domain='api.mapbox.com'\n",
    "    ):\n",
    "        \"\"\"\n",
    "        :param str api_key: The API key required by Mapbox to perform\n",
    "            geocoding requests. API keys are managed through Mapox's account\n",
    "            page (https://www.mapbox.com/account/access-tokens).\n",
    "        :param str scheme:\n",
    "            See :attr:`geopy.geocoders.options.default_scheme`.\n",
    "        :param int timeout:\n",
    "            See :attr:`geopy.geocoders.options.default_timeout`.\n",
    "        :param dict proxies:\n",
    "            See :attr:`geopy.geocoders.options.default_proxies`.\n",
    "        :param str user_agent:\n",
    "            See :attr:`geopy.geocoders.options.default_user_agent`.\n",
    "        :type ssl_context: :class:`ssl.SSLContext`\n",
    "        :param ssl_context:\n",
    "            See :attr:`geopy.geocoders.options.default_ssl_context`.\n",
    "        :param callable adapter_factory:\n",
    "            See :attr:`geopy.geocoders.options.default_adapter_factory`.\n",
    "            .. versionadded:: 2.0\n",
    "        :param str domain: base api domain for mapbox\n",
    "        \"\"\"\n",
    "        super().__init__(\n",
    "            scheme=scheme,\n",
    "            timeout=timeout,\n",
    "            proxies=proxies,\n",
    "            user_agent=user_agent,\n",
    "            ssl_context=ssl_context,\n",
    "            adapter_factory=adapter_factory,\n",
    "        )\n",
    "        self.api_key = api_key\n",
    "        self.domain = domain.strip('/')\n",
    "        self.api = \"%s://%s%s\" % (self.scheme, self.domain, self.api_path)\n",
    "\n",
    "    def _parse_json(self, json, exactly_one=True):\n",
    "        \"\"\"Returns location, (latitude, longitude) from json feed.\"\"\"\n",
    "        features = json['features']\n",
    "        if not features:\n",
    "            return None\n",
    "\n",
    "        def parse_feature(feature):\n",
    "            location = feature['place_name']\n",
    "            longitude = feature['geometry']['coordinates'][0]\n",
    "            latitude = feature['geometry']['coordinates'][1]\n",
    "            return Location(location, (latitude, longitude), feature)\n",
    "        if exactly_one:\n",
    "            return parse_feature(features[0])\n",
    "        else:\n",
    "            return [parse_feature(feature) for feature in features]\n",
    "\n",
    "\n",
    "    def reverse(\n",
    "            self,\n",
    "            query,\n",
    "            *,\n",
    "            exactly_one=True,\n",
    "            timeout=DEFAULT_SENTINEL\n",
    "    ):\n",
    "        \"\"\"\n",
    "        Return an address by location point.\n",
    "        :param query: The coordinates for which you wish to obtain the\n",
    "            closest human-readable addresses.\n",
    "        :type query: :class:`geopy.point.Point`, list or tuple of ``(latitude,\n",
    "            longitude)``, or string as ``\"%(latitude)s, %(longitude)s\"``.\n",
    "        :param bool exactly_one: Return one result or a list of results, if\n",
    "            available.\n",
    "        :param int timeout: Time, in seconds, to wait for the geocoding service\n",
    "            to respond before raising a :class:`geopy.exc.GeocoderTimedOut`\n",
    "            exception. Set this only if you wish to override, on this call\n",
    "            only, the value set during the geocoder's initialization.\n",
    "        :rtype: ``None``, :class:`geopy.location.Location` or a list of them, if\n",
    "            ``exactly_one=False``.\n",
    "        \"\"\"\n",
    "        params = {'access_token': self.api_key}\n",
    "\n",
    "        point = self._coerce_point_to_string(query, \"%(lon)s,%(lat)s\")\n",
    "        quoted_query = quote(point.encode('utf-8'))\n",
    "        url = \"?\".join((self.api % dict(query=quoted_query),\n",
    "                        urlencode(params)))\n",
    "        logger.debug(\"%s.reverse: %s\", self.__class__.__name__, url)\n",
    "        callback = partial(self._parse_json, exactly_one=exactly_one)\n",
    "        return self._call_geocoder(url, callback, timeout=timeout)"
   ],
   "metadata": {
    "collapsed": false,
    "pycharm": {
     "name": "#%%\n"
    }
   }
  },
  {
   "cell_type": "code",
   "execution_count": 65,
   "outputs": [],
   "source": [
    "from typing import Tuple\n",
    "from typing import List\n",
    "import time\n",
    "\n",
    "\n",
    "mapbox: MapBox = MapBox('pk.eyJ1IjoidXR0aSIsImEiOiJja3llNXJzcHcwNGhnMm5wbWszYXc3cDVvIn0.jmunv4h49Qe6bqSvRhqUdw')\n",
    "points: pd.DataFrame = df[['latitude','longitude']]\n",
    "point_list: List[Tuple] = [tuple(x) for x in points.to_numpy()]"
   ],
   "metadata": {
    "collapsed": false,
    "pycharm": {
     "name": "#%%\n"
    }
   }
  },
  {
   "cell_type": "code",
   "execution_count": 66,
   "outputs": [],
   "source": [
    "country = list()\n",
    "\n",
    "def reverse_geo_locate():\n",
    "    for i in range(0, len(point_list)):  # len(point_list)):\n",
    "        # do not exceed API calls per second\n",
    "        time.sleep(0.005)\n",
    "        with open('countries.csv', 'a', encoding='utf-8') as f:\n",
    "            location = mapbox.reverse(point_list[i])\n",
    "            country.append(location if location else (\"no address\",\"no country\"))\n"
   ],
   "metadata": {
    "collapsed": false,
    "pycharm": {
     "name": "#%%\n"
    }
   }
  },
  {
   "cell_type": "code",
   "execution_count": 67,
   "outputs": [],
   "source": [
    "new_df = pd.DataFrame(country)"
   ],
   "metadata": {
    "collapsed": false,
    "pycharm": {
     "name": "#%%\n"
    }
   }
  },
  {
   "cell_type": "code",
   "execution_count": 68,
   "outputs": [],
   "source": [
    "new_df.to_csv('countries_last_attempt')"
   ],
   "metadata": {
    "collapsed": false,
    "pycharm": {
     "name": "#%%\n"
    }
   }
  },
  {
   "cell_type": "markdown",
   "source": [
    "After checking the quality of the geo-located data, in particular the number of missing nations, we decided\n",
    "to use another strategy to represent the population density."
   ],
   "metadata": {
    "collapsed": false,
    "pycharm": {
     "name": "#%% md\n"
    }
   }
  }
 ],
 "metadata": {
  "kernelspec": {
   "display_name": "Python 3",
   "language": "python",
   "name": "python3"
  },
  "language_info": {
   "codemirror_mode": {
    "name": "ipython",
    "version": 2
   },
   "file_extension": ".py",
   "mimetype": "text/x-python",
   "name": "python",
   "nbconvert_exporter": "python",
   "pygments_lexer": "ipython2",
   "version": "2.7.6"
  }
 },
 "nbformat": 4,
 "nbformat_minor": 0
}