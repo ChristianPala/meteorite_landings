{
 "cells": [
  {
   "cell_type": "markdown",
   "metadata": {
    "collapsed": true,
    "pycharm": {
     "name": "#%% md\n"
    }
   },
   "source": [
    "# Data Visualization semester project\n",
    "## Meteorite landings data pre-processing\n",
    "\n",
    "#### Libraries:"
   ]
  },
  {
   "cell_type": "code",
   "execution_count": 1,
   "metadata": {
    "pycharm": {
     "name": "#%%\n"
    }
   },
   "outputs": [],
   "source": [
    "import pandas as pd"
   ]
  },
  {
   "cell_type": "markdown",
   "metadata": {
    "pycharm": {
     "name": "#%% md\n"
    }
   },
   "source": [
    "Import the meteorite landings dataset from the NASA website."
   ]
  },
  {
   "cell_type": "code",
   "execution_count": 143,
   "metadata": {
    "pycharm": {
     "name": "#%%\n"
    }
   },
   "outputs": [],
   "source": [
    "URL: str =\"https://data.nasa.gov/api/views/gh4g-9sfh/rows.csv?accessType=DOWNLOAD\"\n",
    "df: pd.DataFrame = pd.read_csv(URL)"
   ]
  },
  {
   "cell_type": "markdown",
   "metadata": {
    "pycharm": {
     "name": "#%% md\n"
    }
   },
   "source": [
    "### Pre processing:\n",
    "\n",
    "#### Brief exploration"
   ]
  },
  {
   "cell_type": "code",
   "execution_count": 144,
   "metadata": {
    "pycharm": {
     "name": "#%%\n"
    }
   },
   "outputs": [
    {
     "name": "stdout",
     "output_type": "stream",
     "text": [
      "(45716, 10)\n"
     ]
    },
    {
     "data": {
      "text/plain": [
       "name            object\n",
       "id               int64\n",
       "nametype        object\n",
       "recclass        object\n",
       "mass (g)       float64\n",
       "fall            object\n",
       "year            object\n",
       "reclat         float64\n",
       "reclong        float64\n",
       "GeoLocation     object\n",
       "dtype: object"
      ]
     },
     "execution_count": 144,
     "metadata": {},
     "output_type": "execute_result"
    }
   ],
   "source": [
    "print(df.shape)\n",
    "df.dtypes"
   ]
  },
  {
   "cell_type": "code",
   "execution_count": 145,
   "metadata": {
    "pycharm": {
     "name": "#%%\n"
    }
   },
   "outputs": [
    {
     "data": {
      "text/html": [
       "<div>\n",
       "<style scoped>\n",
       "    .dataframe tbody tr th:only-of-type {\n",
       "        vertical-align: middle;\n",
       "    }\n",
       "\n",
       "    .dataframe tbody tr th {\n",
       "        vertical-align: top;\n",
       "    }\n",
       "\n",
       "    .dataframe thead th {\n",
       "        text-align: right;\n",
       "    }\n",
       "</style>\n",
       "<table border=\"1\" class=\"dataframe\">\n",
       "  <thead>\n",
       "    <tr style=\"text-align: right;\">\n",
       "      <th></th>\n",
       "      <th>name</th>\n",
       "      <th>id</th>\n",
       "      <th>nametype</th>\n",
       "      <th>recclass</th>\n",
       "      <th>mass (g)</th>\n",
       "      <th>fall</th>\n",
       "      <th>year</th>\n",
       "      <th>reclat</th>\n",
       "      <th>reclong</th>\n",
       "      <th>GeoLocation</th>\n",
       "    </tr>\n",
       "  </thead>\n",
       "  <tbody>\n",
       "    <tr>\n",
       "      <th>0</th>\n",
       "      <td>Aachen</td>\n",
       "      <td>1</td>\n",
       "      <td>Valid</td>\n",
       "      <td>L5</td>\n",
       "      <td>21.0</td>\n",
       "      <td>Fell</td>\n",
       "      <td>01/01/1880 12:00:00 AM</td>\n",
       "      <td>50.77500</td>\n",
       "      <td>6.08333</td>\n",
       "      <td>(50.775, 6.08333)</td>\n",
       "    </tr>\n",
       "    <tr>\n",
       "      <th>1</th>\n",
       "      <td>Aarhus</td>\n",
       "      <td>2</td>\n",
       "      <td>Valid</td>\n",
       "      <td>H6</td>\n",
       "      <td>720.0</td>\n",
       "      <td>Fell</td>\n",
       "      <td>01/01/1951 12:00:00 AM</td>\n",
       "      <td>56.18333</td>\n",
       "      <td>10.23333</td>\n",
       "      <td>(56.18333, 10.23333)</td>\n",
       "    </tr>\n",
       "    <tr>\n",
       "      <th>2</th>\n",
       "      <td>Abee</td>\n",
       "      <td>6</td>\n",
       "      <td>Valid</td>\n",
       "      <td>EH4</td>\n",
       "      <td>107000.0</td>\n",
       "      <td>Fell</td>\n",
       "      <td>01/01/1952 12:00:00 AM</td>\n",
       "      <td>54.21667</td>\n",
       "      <td>-113.00000</td>\n",
       "      <td>(54.21667, -113.0)</td>\n",
       "    </tr>\n",
       "    <tr>\n",
       "      <th>3</th>\n",
       "      <td>Acapulco</td>\n",
       "      <td>10</td>\n",
       "      <td>Valid</td>\n",
       "      <td>Acapulcoite</td>\n",
       "      <td>1914.0</td>\n",
       "      <td>Fell</td>\n",
       "      <td>01/01/1976 12:00:00 AM</td>\n",
       "      <td>16.88333</td>\n",
       "      <td>-99.90000</td>\n",
       "      <td>(16.88333, -99.9)</td>\n",
       "    </tr>\n",
       "    <tr>\n",
       "      <th>4</th>\n",
       "      <td>Achiras</td>\n",
       "      <td>370</td>\n",
       "      <td>Valid</td>\n",
       "      <td>L6</td>\n",
       "      <td>780.0</td>\n",
       "      <td>Fell</td>\n",
       "      <td>01/01/1902 12:00:00 AM</td>\n",
       "      <td>-33.16667</td>\n",
       "      <td>-64.95000</td>\n",
       "      <td>(-33.16667, -64.95)</td>\n",
       "    </tr>\n",
       "  </tbody>\n",
       "</table>\n",
       "</div>"
      ],
      "text/plain": [
       "       name   id nametype     recclass  mass (g)  fall  \\\n",
       "0    Aachen    1    Valid           L5      21.0  Fell   \n",
       "1    Aarhus    2    Valid           H6     720.0  Fell   \n",
       "2      Abee    6    Valid          EH4  107000.0  Fell   \n",
       "3  Acapulco   10    Valid  Acapulcoite    1914.0  Fell   \n",
       "4   Achiras  370    Valid           L6     780.0  Fell   \n",
       "\n",
       "                     year    reclat    reclong           GeoLocation  \n",
       "0  01/01/1880 12:00:00 AM  50.77500    6.08333     (50.775, 6.08333)  \n",
       "1  01/01/1951 12:00:00 AM  56.18333   10.23333  (56.18333, 10.23333)  \n",
       "2  01/01/1952 12:00:00 AM  54.21667 -113.00000    (54.21667, -113.0)  \n",
       "3  01/01/1976 12:00:00 AM  16.88333  -99.90000     (16.88333, -99.9)  \n",
       "4  01/01/1902 12:00:00 AM -33.16667  -64.95000   (-33.16667, -64.95)  "
      ]
     },
     "execution_count": 145,
     "metadata": {},
     "output_type": "execute_result"
    }
   ],
   "source": [
    "df.head()"
   ]
  },
  {
   "cell_type": "markdown",
   "metadata": {
    "pycharm": {
     "name": "#%% md\n"
    }
   },
   "source": [
    "We have:\n",
    "- 6 categorical variables of interest: id, name, nametype, recclass fall and year.\n",
    "    - if there are no duplicate names id does not provide added information.\n",
    "    - year is stored in the wrong format\n",
    "- 3 numerical variables of interest: mass, longitude and latitude.\n",
    "    - mass does not follow the naming convention of the rest of the dataset.\n",
    "    - GeoLocation does not contain additional information."
   ]
  },
  {
   "cell_type": "code",
   "execution_count": 146,
   "metadata": {
    "pycharm": {
     "name": "#%%\n"
    }
   },
   "outputs": [
    {
     "data": {
      "text/plain": [
       "False"
      ]
     },
     "execution_count": 146,
     "metadata": {},
     "output_type": "execute_result"
    }
   ],
   "source": [
    "df['name'].duplicated().any()"
   ]
  },
  {
   "cell_type": "markdown",
   "metadata": {
    "pycharm": {
     "name": "#%% md\n"
    }
   },
   "source": [
    "Since the name uniquely identifies the meteorite we can drop the id together with GeoLocation"
   ]
  },
  {
   "cell_type": "code",
   "execution_count": 147,
   "metadata": {
    "pycharm": {
     "name": "#%%\n"
    }
   },
   "outputs": [],
   "source": [
    "df.drop(['id', 'GeoLocation'], axis='columns', inplace=True)"
   ]
  },
  {
   "cell_type": "markdown",
   "metadata": {
    "pycharm": {
     "name": "#%% md\n"
    }
   },
   "source": [
    "renaming mass (g) to mass and giving more meaningful names to nametype,\n",
    "which represents whether the meteorite landed as a meteorite or is now a\n",
    "relic after landing, renamed to status and fall, which represents how the meteorite\n",
    "was detected, while falling or found, to detection method.\n",
    "\n",
    "Renaming reclat and reclong and recclass to latitude and longitude and recommended\n",
    "classification, a standard on how to categorize meteorites."
   ]
  },
  {
   "cell_type": "code",
   "execution_count": 148,
   "metadata": {
    "pycharm": {
     "name": "#%%\n"
    }
   },
   "outputs": [
    {
     "data": {
      "text/html": [
       "<div>\n",
       "<style scoped>\n",
       "    .dataframe tbody tr th:only-of-type {\n",
       "        vertical-align: middle;\n",
       "    }\n",
       "\n",
       "    .dataframe tbody tr th {\n",
       "        vertical-align: top;\n",
       "    }\n",
       "\n",
       "    .dataframe thead th {\n",
       "        text-align: right;\n",
       "    }\n",
       "</style>\n",
       "<table border=\"1\" class=\"dataframe\">\n",
       "  <thead>\n",
       "    <tr style=\"text-align: right;\">\n",
       "      <th></th>\n",
       "      <th>name</th>\n",
       "      <th>status</th>\n",
       "      <th>recommended classification</th>\n",
       "      <th>mass</th>\n",
       "      <th>detection method</th>\n",
       "      <th>year</th>\n",
       "      <th>latitude</th>\n",
       "      <th>longitude</th>\n",
       "    </tr>\n",
       "  </thead>\n",
       "  <tbody>\n",
       "    <tr>\n",
       "      <th>0</th>\n",
       "      <td>Aachen</td>\n",
       "      <td>Valid</td>\n",
       "      <td>L5</td>\n",
       "      <td>21.0</td>\n",
       "      <td>Fell</td>\n",
       "      <td>01/01/1880 12:00:00 AM</td>\n",
       "      <td>50.77500</td>\n",
       "      <td>6.08333</td>\n",
       "    </tr>\n",
       "    <tr>\n",
       "      <th>1</th>\n",
       "      <td>Aarhus</td>\n",
       "      <td>Valid</td>\n",
       "      <td>H6</td>\n",
       "      <td>720.0</td>\n",
       "      <td>Fell</td>\n",
       "      <td>01/01/1951 12:00:00 AM</td>\n",
       "      <td>56.18333</td>\n",
       "      <td>10.23333</td>\n",
       "    </tr>\n",
       "    <tr>\n",
       "      <th>2</th>\n",
       "      <td>Abee</td>\n",
       "      <td>Valid</td>\n",
       "      <td>EH4</td>\n",
       "      <td>107000.0</td>\n",
       "      <td>Fell</td>\n",
       "      <td>01/01/1952 12:00:00 AM</td>\n",
       "      <td>54.21667</td>\n",
       "      <td>-113.00000</td>\n",
       "    </tr>\n",
       "    <tr>\n",
       "      <th>3</th>\n",
       "      <td>Acapulco</td>\n",
       "      <td>Valid</td>\n",
       "      <td>Acapulcoite</td>\n",
       "      <td>1914.0</td>\n",
       "      <td>Fell</td>\n",
       "      <td>01/01/1976 12:00:00 AM</td>\n",
       "      <td>16.88333</td>\n",
       "      <td>-99.90000</td>\n",
       "    </tr>\n",
       "    <tr>\n",
       "      <th>4</th>\n",
       "      <td>Achiras</td>\n",
       "      <td>Valid</td>\n",
       "      <td>L6</td>\n",
       "      <td>780.0</td>\n",
       "      <td>Fell</td>\n",
       "      <td>01/01/1902 12:00:00 AM</td>\n",
       "      <td>-33.16667</td>\n",
       "      <td>-64.95000</td>\n",
       "    </tr>\n",
       "  </tbody>\n",
       "</table>\n",
       "</div>"
      ],
      "text/plain": [
       "       name status recommended classification      mass detection method  \\\n",
       "0    Aachen  Valid                         L5      21.0             Fell   \n",
       "1    Aarhus  Valid                         H6     720.0             Fell   \n",
       "2      Abee  Valid                        EH4  107000.0             Fell   \n",
       "3  Acapulco  Valid                Acapulcoite    1914.0             Fell   \n",
       "4   Achiras  Valid                         L6     780.0             Fell   \n",
       "\n",
       "                     year  latitude  longitude  \n",
       "0  01/01/1880 12:00:00 AM  50.77500    6.08333  \n",
       "1  01/01/1951 12:00:00 AM  56.18333   10.23333  \n",
       "2  01/01/1952 12:00:00 AM  54.21667 -113.00000  \n",
       "3  01/01/1976 12:00:00 AM  16.88333  -99.90000  \n",
       "4  01/01/1902 12:00:00 AM -33.16667  -64.95000  "
      ]
     },
     "execution_count": 148,
     "metadata": {},
     "output_type": "execute_result"
    }
   ],
   "source": [
    "df.rename(columns={'mass (g)': 'mass',\n",
    "                   'nametype': 'status',\n",
    "                   'fall': 'detection method',\n",
    "                   'reclat': 'latitude',\n",
    "                   'reclong': 'longitude',\n",
    "                   'recclass': 'recommended classification'}, inplace=True)\n",
    "df.head()"
   ]
  },
  {
   "cell_type": "markdown",
   "metadata": {
    "pycharm": {
     "name": "#%% md\n"
    }
   },
   "source": [
    "Fixing the years"
   ]
  },
  {
   "cell_type": "code",
   "execution_count": 149,
   "metadata": {
    "pycharm": {
     "name": "#%%\n"
    }
   },
   "outputs": [],
   "source": [
    "df[\"year\"] = df['year'].str[:4]"
   ]
  },
  {
   "cell_type": "markdown",
   "metadata": {
    "pycharm": {
     "name": "#%% md\n"
    }
   },
   "source": [
    "Exploring the missing values:"
   ]
  },
  {
   "cell_type": "code",
   "execution_count": 150,
   "metadata": {
    "pycharm": {
     "name": "#%%\n"
    }
   },
   "outputs": [
    {
     "data": {
      "text/plain": [
       "name                             0\n",
       "status                           0\n",
       "recommended classification       0\n",
       "mass                           131\n",
       "detection method                 0\n",
       "year                           291\n",
       "latitude                      7315\n",
       "longitude                     7315\n",
       "dtype: int64"
      ]
     },
     "execution_count": 150,
     "metadata": {},
     "output_type": "execute_result"
    }
   ],
   "source": [
    "df.isnull().sum()"
   ]
  },
  {
   "cell_type": "markdown",
   "metadata": {},
   "source": [
    "Our visualization requires geolocation, hence we drop the meteorites with\n",
    "missing latitude and longitude coordinates."
   ]
  },
  {
   "cell_type": "code",
   "execution_count": 151,
   "metadata": {
    "pycharm": {
     "name": "#%%\n"
    }
   },
   "outputs": [
    {
     "data": {
      "text/plain": [
       "name                            0\n",
       "status                          0\n",
       "recommended classification      0\n",
       "mass                          119\n",
       "detection method                0\n",
       "year                          178\n",
       "latitude                        0\n",
       "longitude                       0\n",
       "dtype: int64"
      ]
     },
     "execution_count": 151,
     "metadata": {},
     "output_type": "execute_result"
    }
   ],
   "source": [
    "df = df[df['latitude'].notna()]\n",
    "df.isnull().sum()"
   ]
  },
  {
   "cell_type": "markdown",
   "metadata": {
    "pycharm": {
     "name": "#%% md\n"
    }
   },
   "source": [
    "Year and mass are not as important for us, hence we decided to keep those rows."
   ]
  },
  {
   "cell_type": "markdown",
   "metadata": {
    "pycharm": {
     "name": "#%% md\n"
    }
   },
   "source": [
    "#### Assigning an address to each meteorite landing found by the geo-locator with its coordinates.\n",
    "\n",
    "##### Connection done using GeoPy's git-hub repository code:\n",
    "https://github.com/geopy/geopy/blob/master/geopy/geocoders/mapbox.py"
   ]
  },
  {
   "cell_type": "code",
   "execution_count": 152,
   "metadata": {
    "pycharm": {
     "name": "#%%\n"
    }
   },
   "outputs": [],
   "source": [
    "from functools import partial\n",
    "from urllib.parse import quote, urlencode\n",
    "\n",
    "from geopy.geocoders.base import DEFAULT_SENTINEL, Geocoder\n",
    "from geopy.location import Location\n",
    "from geopy.util import logger\n",
    "\n",
    "__all__ = (\"MapBox\", )\n",
    "\n",
    "\n",
    "class MapBox(Geocoder):\n",
    "    \"\"\"Geocoder using the Mapbox API.\n",
    "    Documentation at:\n",
    "        https://www.mapbox.com/api-documentation/\n",
    "    \"\"\"\n",
    "\n",
    "    api_path = '/geocoding/v5/mapbox.places/%(query)s.json/'\n",
    "\n",
    "    def __init__(\n",
    "            self,\n",
    "            api_key,\n",
    "            *,\n",
    "            scheme=None,\n",
    "            timeout=DEFAULT_SENTINEL,\n",
    "            proxies=DEFAULT_SENTINEL,\n",
    "            user_agent=None,\n",
    "            ssl_context=DEFAULT_SENTINEL,\n",
    "            adapter_factory=None,\n",
    "            domain='api.mapbox.com'\n",
    "    ):\n",
    "        \"\"\"\n",
    "        :param str api_key: The API key required by Mapbox to perform\n",
    "            geocoding requests. API keys are managed through Mapox's account\n",
    "            page (https://www.mapbox.com/account/access-tokens).\n",
    "        :param str scheme:\n",
    "            See :attr:`geopy.geocoders.options.default_scheme`.\n",
    "        :param int timeout:\n",
    "            See :attr:`geopy.geocoders.options.default_timeout`.\n",
    "        :param dict proxies:\n",
    "            See :attr:`geopy.geocoders.options.default_proxies`.\n",
    "        :param str user_agent:\n",
    "            See :attr:`geopy.geocoders.options.default_user_agent`.\n",
    "        :type ssl_context: :class:`ssl.SSLContext`\n",
    "        :param ssl_context:\n",
    "            See :attr:`geopy.geocoders.options.default_ssl_context`.\n",
    "        :param callable adapter_factory:\n",
    "            See :attr:`geopy.geocoders.options.default_adapter_factory`.\n",
    "            .. versionadded:: 2.0\n",
    "        :param str domain: base api domain for mapbox\n",
    "        \"\"\"\n",
    "        super().__init__(\n",
    "            scheme=scheme,\n",
    "            timeout=timeout,\n",
    "            proxies=proxies,\n",
    "            user_agent=user_agent,\n",
    "            ssl_context=ssl_context,\n",
    "            adapter_factory=adapter_factory,\n",
    "        )\n",
    "        self.api_key = api_key\n",
    "        self.domain = domain.strip('/')\n",
    "        self.api = \"%s://%s%s\" % (self.scheme, self.domain, self.api_path)\n",
    "\n",
    "    def _parse_json(self, json, exactly_one=True):\n",
    "        \"\"\"Returns location, (latitude, longitude) from json feed.\"\"\"\n",
    "        features = json['features']\n",
    "        if not features:\n",
    "            return None\n",
    "\n",
    "        def parse_feature(feature):\n",
    "            location = feature['place_name']\n",
    "            longitude = feature['geometry']['coordinates'][0]\n",
    "            latitude = feature['geometry']['coordinates'][1]\n",
    "            return Location(location, (latitude, longitude), feature)\n",
    "        if exactly_one:\n",
    "            return parse_feature(features[0])\n",
    "        else:\n",
    "            return [parse_feature(feature) for feature in features]\n",
    "\n",
    "\n",
    "    def reverse(\n",
    "            self,\n",
    "            query,\n",
    "            *,\n",
    "            exactly_one=True,\n",
    "            timeout=DEFAULT_SENTINEL\n",
    "    ):\n",
    "        \"\"\"\n",
    "        Return an address by location point.\n",
    "        :param query: The coordinates for which you wish to obtain the\n",
    "            closest human-readable addresses.\n",
    "        :type query: :class:`geopy.point.Point`, list or tuple of ``(latitude,\n",
    "            longitude)``, or string as ``\"%(latitude)s, %(longitude)s\"``.\n",
    "        :param bool exactly_one: Return one result or a list of results, if\n",
    "            available.\n",
    "        :param int timeout: Time, in seconds, to wait for the geocoding service\n",
    "            to respond before raising a :class:`geopy.exc.GeocoderTimedOut`\n",
    "            exception. Set this only if you wish to override, on this call\n",
    "            only, the value set during the geocoder's initialization.\n",
    "        :rtype: ``None``, :class:`geopy.location.Location` or a list of them, if\n",
    "            ``exactly_one=False``.\n",
    "        \"\"\"\n",
    "        params = {'access_token': self.api_key}\n",
    "\n",
    "        point = self._coerce_point_to_string(query, \"%(lon)s,%(lat)s\")\n",
    "        quoted_query = quote(point.encode('utf-8'))\n",
    "        url = \"?\".join((self.api % dict(query=quoted_query),\n",
    "                        urlencode(params)))\n",
    "        logger.debug(\"%s.reverse: %s\", self.__class__.__name__, url)\n",
    "        callback = partial(self._parse_json, exactly_one=exactly_one)\n",
    "        return self._call_geocoder(url, callback, timeout=timeout)"
   ]
  },
  {
   "cell_type": "code",
   "execution_count": 153,
   "metadata": {
    "pycharm": {
     "name": "#%%\n"
    }
   },
   "outputs": [],
   "source": [
    "from typing import Tuple\n",
    "from typing import List\n",
    "import time\n",
    "\n",
    "mapbox: MapBox = MapBox('pk.eyJ1IjoiY2hyaXN0aWFuLXBhbGEiLCJhIjoiY2t5YTZ4ZjMwMDJyaDJ3cWx5bDY4amp6ZyJ9.uFBztOoKbsmrpYTqol-NXA')\n",
    "\n",
    "points: pd.DataFrame = df[['latitude', 'longitude']]\n",
    "point_list: List[Tuple] = [tuple(x) for x in points.to_numpy()]\n",
    "\n",
    "batch_size: int = 800\n",
    "\n",
    "for i in range(0, len(point_list), batch_size):\n",
    "    time.sleep(2)\n",
    "    batch = point_list[i:i+batch_size]\n",
    "    for j in range(len(batch)):\n",
    "        with open('meteorite_landings_addresses.txt', 'a', encoding='utf-8') as f:\n",
    "            print(point_list[j], mapbox.reverse(point_list[j]),file = f)"
   ]
  },
  {
   "cell_type": "markdown",
   "metadata": {
    "pycharm": {
     "name": "#%% md\n"
    }
   },
   "source": [
    "### Processing the new dataset (after supervised)"
   ]
  },
  {
   "cell_type": "code",
   "execution_count": null,
   "metadata": {},
   "outputs": [],
   "source": []
  },
  {
   "cell_type": "markdown",
   "metadata": {},
   "source": [
    "## Preprocessing of world population dataset"
   ]
  },
  {
   "cell_type": "markdown",
   "metadata": {},
   "source": [
    "### import the dataset"
   ]
  },
  {
   "cell_type": "code",
   "execution_count": 111,
   "metadata": {},
   "outputs": [],
   "source": [
    "wp: pd.DataFrame = pd.read_csv(\"world_population.csv\")"
   ]
  },
  {
   "cell_type": "markdown",
   "metadata": {},
   "source": [
    "### brief exploration"
   ]
  },
  {
   "cell_type": "code",
   "execution_count": 112,
   "metadata": {
    "scrolled": true
   },
   "outputs": [
    {
     "name": "stdout",
     "output_type": "stream",
     "text": [
      "(266, 65)\n"
     ]
    },
    {
     "data": {
      "text/plain": [
       "Country Name       object\n",
       "Country Code       object\n",
       "Indicator Name     object\n",
       "Indicator Code     object\n",
       "1960              float64\n",
       "                   ...   \n",
       "2016              float64\n",
       "2017              float64\n",
       "2018              float64\n",
       "2019              float64\n",
       "2020              float64\n",
       "Length: 65, dtype: object"
      ]
     },
     "execution_count": 112,
     "metadata": {},
     "output_type": "execute_result"
    }
   ],
   "source": [
    "print(wp.shape)\n",
    "wp.dtypes"
   ]
  },
  {
   "cell_type": "code",
   "execution_count": 113,
   "metadata": {
    "scrolled": false
   },
   "outputs": [
    {
     "data": {
      "text/html": [
       "<div>\n",
       "<style scoped>\n",
       "    .dataframe tbody tr th:only-of-type {\n",
       "        vertical-align: middle;\n",
       "    }\n",
       "\n",
       "    .dataframe tbody tr th {\n",
       "        vertical-align: top;\n",
       "    }\n",
       "\n",
       "    .dataframe thead th {\n",
       "        text-align: right;\n",
       "    }\n",
       "</style>\n",
       "<table border=\"1\" class=\"dataframe\">\n",
       "  <thead>\n",
       "    <tr style=\"text-align: right;\">\n",
       "      <th></th>\n",
       "      <th>Country Name</th>\n",
       "      <th>Country Code</th>\n",
       "      <th>Indicator Name</th>\n",
       "      <th>Indicator Code</th>\n",
       "      <th>1960</th>\n",
       "      <th>1961</th>\n",
       "      <th>1962</th>\n",
       "      <th>1963</th>\n",
       "      <th>1964</th>\n",
       "      <th>1965</th>\n",
       "      <th>...</th>\n",
       "      <th>2011</th>\n",
       "      <th>2012</th>\n",
       "      <th>2013</th>\n",
       "      <th>2014</th>\n",
       "      <th>2015</th>\n",
       "      <th>2016</th>\n",
       "      <th>2017</th>\n",
       "      <th>2018</th>\n",
       "      <th>2019</th>\n",
       "      <th>2020</th>\n",
       "    </tr>\n",
       "  </thead>\n",
       "  <tbody>\n",
       "    <tr>\n",
       "      <th>0</th>\n",
       "      <td>Aruba</td>\n",
       "      <td>ABW</td>\n",
       "      <td>Population density (people per sq. km of land ...</td>\n",
       "      <td>EN.POP.DNST</td>\n",
       "      <td>NaN</td>\n",
       "      <td>307.966667</td>\n",
       "      <td>312.411111</td>\n",
       "      <td>314.994444</td>\n",
       "      <td>316.827778</td>\n",
       "      <td>318.650000</td>\n",
       "      <td>...</td>\n",
       "      <td>566.944444</td>\n",
       "      <td>569.805556</td>\n",
       "      <td>573.138889</td>\n",
       "      <td>576.533333</td>\n",
       "      <td>579.661111</td>\n",
       "      <td>582.583333</td>\n",
       "      <td>585.338889</td>\n",
       "      <td>588.033333</td>\n",
       "      <td>590.611111</td>\n",
       "      <td>593.144444</td>\n",
       "    </tr>\n",
       "    <tr>\n",
       "      <th>1</th>\n",
       "      <td>Africa Eastern and Southern</td>\n",
       "      <td>AFE</td>\n",
       "      <td>Population density (people per sq. km of land ...</td>\n",
       "      <td>EN.POP.DNST</td>\n",
       "      <td>NaN</td>\n",
       "      <td>9.078367</td>\n",
       "      <td>9.312152</td>\n",
       "      <td>9.554904</td>\n",
       "      <td>9.806505</td>\n",
       "      <td>10.067014</td>\n",
       "      <td>...</td>\n",
       "      <td>35.979974</td>\n",
       "      <td>36.974250</td>\n",
       "      <td>37.995279</td>\n",
       "      <td>39.040385</td>\n",
       "      <td>40.107067</td>\n",
       "      <td>41.195114</td>\n",
       "      <td>42.303709</td>\n",
       "      <td>43.431367</td>\n",
       "      <td>44.576507</td>\n",
       "      <td>45.737916</td>\n",
       "    </tr>\n",
       "    <tr>\n",
       "      <th>2</th>\n",
       "      <td>Afghanistan</td>\n",
       "      <td>AFG</td>\n",
       "      <td>Population density (people per sq. km of land ...</td>\n",
       "      <td>EN.POP.DNST</td>\n",
       "      <td>NaN</td>\n",
       "      <td>14.044981</td>\n",
       "      <td>14.323809</td>\n",
       "      <td>14.617529</td>\n",
       "      <td>14.926281</td>\n",
       "      <td>15.250311</td>\n",
       "      <td>...</td>\n",
       "      <td>46.131500</td>\n",
       "      <td>47.730567</td>\n",
       "      <td>49.428043</td>\n",
       "      <td>51.114793</td>\n",
       "      <td>52.712071</td>\n",
       "      <td>54.196961</td>\n",
       "      <td>55.595550</td>\n",
       "      <td>56.937049</td>\n",
       "      <td>58.269395</td>\n",
       "      <td>59.627395</td>\n",
       "    </tr>\n",
       "    <tr>\n",
       "      <th>3</th>\n",
       "      <td>Africa Western and Central</td>\n",
       "      <td>AFW</td>\n",
       "      <td>Population density (people per sq. km of land ...</td>\n",
       "      <td>EN.POP.DNST</td>\n",
       "      <td>NaN</td>\n",
       "      <td>10.877837</td>\n",
       "      <td>11.109940</td>\n",
       "      <td>11.351399</td>\n",
       "      <td>11.601453</td>\n",
       "      <td>11.859717</td>\n",
       "      <td>...</td>\n",
       "      <td>39.829118</td>\n",
       "      <td>40.929916</td>\n",
       "      <td>42.056948</td>\n",
       "      <td>43.211639</td>\n",
       "      <td>44.394917</td>\n",
       "      <td>45.607045</td>\n",
       "      <td>46.847251</td>\n",
       "      <td>48.114080</td>\n",
       "      <td>49.405535</td>\n",
       "      <td>50.720167</td>\n",
       "    </tr>\n",
       "    <tr>\n",
       "      <th>4</th>\n",
       "      <td>Angola</td>\n",
       "      <td>AGO</td>\n",
       "      <td>Population density (people per sq. km of land ...</td>\n",
       "      <td>EN.POP.DNST</td>\n",
       "      <td>NaN</td>\n",
       "      <td>4.436874</td>\n",
       "      <td>4.498676</td>\n",
       "      <td>4.555554</td>\n",
       "      <td>4.600140</td>\n",
       "      <td>4.628678</td>\n",
       "      <td>...</td>\n",
       "      <td>19.427817</td>\n",
       "      <td>20.139508</td>\n",
       "      <td>20.867720</td>\n",
       "      <td>21.610470</td>\n",
       "      <td>22.366552</td>\n",
       "      <td>23.135062</td>\n",
       "      <td>23.916555</td>\n",
       "      <td>24.713072</td>\n",
       "      <td>25.527632</td>\n",
       "      <td>26.362612</td>\n",
       "    </tr>\n",
       "  </tbody>\n",
       "</table>\n",
       "<p>5 rows × 65 columns</p>\n",
       "</div>"
      ],
      "text/plain": [
       "                  Country Name Country Code  \\\n",
       "0                        Aruba          ABW   \n",
       "1  Africa Eastern and Southern          AFE   \n",
       "2                  Afghanistan          AFG   \n",
       "3   Africa Western and Central          AFW   \n",
       "4                       Angola          AGO   \n",
       "\n",
       "                                      Indicator Name Indicator Code  1960  \\\n",
       "0  Population density (people per sq. km of land ...    EN.POP.DNST   NaN   \n",
       "1  Population density (people per sq. km of land ...    EN.POP.DNST   NaN   \n",
       "2  Population density (people per sq. km of land ...    EN.POP.DNST   NaN   \n",
       "3  Population density (people per sq. km of land ...    EN.POP.DNST   NaN   \n",
       "4  Population density (people per sq. km of land ...    EN.POP.DNST   NaN   \n",
       "\n",
       "         1961        1962        1963        1964        1965  ...  \\\n",
       "0  307.966667  312.411111  314.994444  316.827778  318.650000  ...   \n",
       "1    9.078367    9.312152    9.554904    9.806505   10.067014  ...   \n",
       "2   14.044981   14.323809   14.617529   14.926281   15.250311  ...   \n",
       "3   10.877837   11.109940   11.351399   11.601453   11.859717  ...   \n",
       "4    4.436874    4.498676    4.555554    4.600140    4.628678  ...   \n",
       "\n",
       "         2011        2012        2013        2014        2015        2016  \\\n",
       "0  566.944444  569.805556  573.138889  576.533333  579.661111  582.583333   \n",
       "1   35.979974   36.974250   37.995279   39.040385   40.107067   41.195114   \n",
       "2   46.131500   47.730567   49.428043   51.114793   52.712071   54.196961   \n",
       "3   39.829118   40.929916   42.056948   43.211639   44.394917   45.607045   \n",
       "4   19.427817   20.139508   20.867720   21.610470   22.366552   23.135062   \n",
       "\n",
       "         2017        2018        2019        2020  \n",
       "0  585.338889  588.033333  590.611111  593.144444  \n",
       "1   42.303709   43.431367   44.576507   45.737916  \n",
       "2   55.595550   56.937049   58.269395   59.627395  \n",
       "3   46.847251   48.114080   49.405535   50.720167  \n",
       "4   23.916555   24.713072   25.527632   26.362612  \n",
       "\n",
       "[5 rows x 65 columns]"
      ]
     },
     "execution_count": 113,
     "metadata": {},
     "output_type": "execute_result"
    }
   ],
   "source": [
    "wp.head()"
   ]
  },
  {
   "cell_type": "code",
   "execution_count": 114,
   "metadata": {
    "scrolled": true
   },
   "outputs": [
    {
     "name": "stdout",
     "output_type": "stream",
     "text": [
      "Number of duplicated fields in Indicator Name: 266\n",
      "Number of duplicated fields in Indicator Code: 266\n",
      "Number of observations in dataset: 266\n"
     ]
    }
   ],
   "source": [
    "print(f\"Number of duplicated fields in Indicator Name: {wp['Indicator Name'].duplicated().count()}\")\n",
    "print(f\"Number of duplicated fields in Indicator Code: {wp['Indicator Code'].duplicated().count()}\")\n",
    "\n",
    "print(f\"Number of observations in dataset: {len(wp)}\")"
   ]
  },
  {
   "cell_type": "markdown",
   "metadata": {
    "pycharm": {
     "name": "#%% md\n"
    }
   },
   "source": [
    "We have:\n",
    "- Country Name\n",
    "- Country Code\n",
    "- Indicator Name\n",
    "- Indicator Code\n",
    "- population density for every year between 1960 and 2020\n",
    "\n",
    "since we only want the data from 2020 we drop the other columns, and since indicator name and indicator code are useless for us we drop them too."
   ]
  },
  {
   "cell_type": "code",
   "execution_count": 115,
   "metadata": {},
   "outputs": [],
   "source": [
    "#drop columns\n",
    "wp.drop(wp.iloc[:, 2:64], inplace = True, axis = 1)"
   ]
  },
  {
   "cell_type": "code",
   "execution_count": 116,
   "metadata": {
    "scrolled": true
   },
   "outputs": [
    {
     "data": {
      "text/html": [
       "<div>\n",
       "<style scoped>\n",
       "    .dataframe tbody tr th:only-of-type {\n",
       "        vertical-align: middle;\n",
       "    }\n",
       "\n",
       "    .dataframe tbody tr th {\n",
       "        vertical-align: top;\n",
       "    }\n",
       "\n",
       "    .dataframe thead th {\n",
       "        text-align: right;\n",
       "    }\n",
       "</style>\n",
       "<table border=\"1\" class=\"dataframe\">\n",
       "  <thead>\n",
       "    <tr style=\"text-align: right;\">\n",
       "      <th></th>\n",
       "      <th>Country Name</th>\n",
       "      <th>Country Code</th>\n",
       "      <th>2020</th>\n",
       "    </tr>\n",
       "  </thead>\n",
       "  <tbody>\n",
       "    <tr>\n",
       "      <th>0</th>\n",
       "      <td>Aruba</td>\n",
       "      <td>ABW</td>\n",
       "      <td>593.144444</td>\n",
       "    </tr>\n",
       "    <tr>\n",
       "      <th>1</th>\n",
       "      <td>Africa Eastern and Southern</td>\n",
       "      <td>AFE</td>\n",
       "      <td>45.737916</td>\n",
       "    </tr>\n",
       "    <tr>\n",
       "      <th>2</th>\n",
       "      <td>Afghanistan</td>\n",
       "      <td>AFG</td>\n",
       "      <td>59.627395</td>\n",
       "    </tr>\n",
       "    <tr>\n",
       "      <th>3</th>\n",
       "      <td>Africa Western and Central</td>\n",
       "      <td>AFW</td>\n",
       "      <td>50.720167</td>\n",
       "    </tr>\n",
       "    <tr>\n",
       "      <th>4</th>\n",
       "      <td>Angola</td>\n",
       "      <td>AGO</td>\n",
       "      <td>26.362612</td>\n",
       "    </tr>\n",
       "  </tbody>\n",
       "</table>\n",
       "</div>"
      ],
      "text/plain": [
       "                  Country Name Country Code        2020\n",
       "0                        Aruba          ABW  593.144444\n",
       "1  Africa Eastern and Southern          AFE   45.737916\n",
       "2                  Afghanistan          AFG   59.627395\n",
       "3   Africa Western and Central          AFW   50.720167\n",
       "4                       Angola          AGO   26.362612"
      ]
     },
     "execution_count": 116,
     "metadata": {},
     "output_type": "execute_result"
    }
   ],
   "source": [
    "wp.head()"
   ]
  },
  {
   "cell_type": "markdown",
   "metadata": {},
   "source": [
    "### exploring missing values"
   ]
  },
  {
   "cell_type": "code",
   "execution_count": 117,
   "metadata": {
    "scrolled": true
   },
   "outputs": [
    {
     "data": {
      "text/plain": [
       "Country Name    0\n",
       "Country Code    0\n",
       "2020            2\n",
       "dtype: int64"
      ]
     },
     "execution_count": 117,
     "metadata": {},
     "output_type": "execute_result"
    }
   ],
   "source": [
    "wp.isnull().sum()"
   ]
  },
  {
   "cell_type": "code",
   "execution_count": 118,
   "metadata": {
    "scrolled": true
   },
   "outputs": [
    {
     "data": {
      "text/html": [
       "<div>\n",
       "<style scoped>\n",
       "    .dataframe tbody tr th:only-of-type {\n",
       "        vertical-align: middle;\n",
       "    }\n",
       "\n",
       "    .dataframe tbody tr th {\n",
       "        vertical-align: top;\n",
       "    }\n",
       "\n",
       "    .dataframe thead th {\n",
       "        text-align: right;\n",
       "    }\n",
       "</style>\n",
       "<table border=\"1\" class=\"dataframe\">\n",
       "  <thead>\n",
       "    <tr style=\"text-align: right;\">\n",
       "      <th></th>\n",
       "      <th>Country Name</th>\n",
       "      <th>Country Code</th>\n",
       "      <th>2020</th>\n",
       "    </tr>\n",
       "  </thead>\n",
       "  <tbody>\n",
       "    <tr>\n",
       "      <th>110</th>\n",
       "      <td>Not classified</td>\n",
       "      <td>INX</td>\n",
       "      <td>NaN</td>\n",
       "    </tr>\n",
       "    <tr>\n",
       "      <th>261</th>\n",
       "      <td>Kosovo</td>\n",
       "      <td>XKX</td>\n",
       "      <td>NaN</td>\n",
       "    </tr>\n",
       "  </tbody>\n",
       "</table>\n",
       "</div>"
      ],
      "text/plain": [
       "       Country Name Country Code  2020\n",
       "110  Not classified          INX   NaN\n",
       "261          Kosovo          XKX   NaN"
      ]
     },
     "execution_count": 118,
     "metadata": {},
     "output_type": "execute_result"
    }
   ],
   "source": [
    "null_data = wp[wp.isnull().any(axis=1)]\n",
    "null_data"
   ]
  },
  {
   "cell_type": "code",
   "execution_count": 119,
   "metadata": {},
   "outputs": [],
   "source": [
    "# we drop \"Not classified\"\n",
    "\n",
    "wp = wp[wp[\"Country Name\"] != \"Not classified\"]"
   ]
  },
  {
   "cell_type": "markdown",
   "metadata": {},
   "source": [
    "#### And for Kosovo we take the last available data"
   ]
  },
  {
   "cell_type": "code",
   "execution_count": 120,
   "metadata": {
    "scrolled": false
   },
   "outputs": [
    {
     "data": {
      "text/html": [
       "<div>\n",
       "<style scoped>\n",
       "    .dataframe tbody tr th:only-of-type {\n",
       "        vertical-align: middle;\n",
       "    }\n",
       "\n",
       "    .dataframe tbody tr th {\n",
       "        vertical-align: top;\n",
       "    }\n",
       "\n",
       "    .dataframe thead th {\n",
       "        text-align: right;\n",
       "    }\n",
       "</style>\n",
       "<table border=\"1\" class=\"dataframe\">\n",
       "  <thead>\n",
       "    <tr style=\"text-align: right;\">\n",
       "      <th></th>\n",
       "      <th>Country Name</th>\n",
       "      <th>Country Code</th>\n",
       "      <th>Indicator Name</th>\n",
       "      <th>Indicator Code</th>\n",
       "      <th>1960</th>\n",
       "      <th>1961</th>\n",
       "      <th>1962</th>\n",
       "      <th>1963</th>\n",
       "      <th>1964</th>\n",
       "      <th>1965</th>\n",
       "      <th>...</th>\n",
       "      <th>2011</th>\n",
       "      <th>2012</th>\n",
       "      <th>2013</th>\n",
       "      <th>2014</th>\n",
       "      <th>2015</th>\n",
       "      <th>2016</th>\n",
       "      <th>2017</th>\n",
       "      <th>2018</th>\n",
       "      <th>2019</th>\n",
       "      <th>2020</th>\n",
       "    </tr>\n",
       "  </thead>\n",
       "  <tbody>\n",
       "    <tr>\n",
       "      <th>261</th>\n",
       "      <td>Kosovo</td>\n",
       "      <td>XKX</td>\n",
       "      <td>Population density (people per sq. km of land ...</td>\n",
       "      <td>EN.POP.DNST</td>\n",
       "      <td>NaN</td>\n",
       "      <td>88.729678</td>\n",
       "      <td>91.301552</td>\n",
       "      <td>93.873427</td>\n",
       "      <td>96.445302</td>\n",
       "      <td>99.017176</td>\n",
       "      <td>...</td>\n",
       "      <td>164.508129</td>\n",
       "      <td>165.987508</td>\n",
       "      <td>166.998898</td>\n",
       "      <td>166.507853</td>\n",
       "      <td>164.250574</td>\n",
       "      <td>163.273353</td>\n",
       "      <td>164.508404</td>\n",
       "      <td>NaN</td>\n",
       "      <td>NaN</td>\n",
       "      <td>NaN</td>\n",
       "    </tr>\n",
       "  </tbody>\n",
       "</table>\n",
       "<p>1 rows × 65 columns</p>\n",
       "</div>"
      ],
      "text/plain": [
       "    Country Name Country Code  \\\n",
       "261       Kosovo          XKX   \n",
       "\n",
       "                                        Indicator Name Indicator Code  1960  \\\n",
       "261  Population density (people per sq. km of land ...    EN.POP.DNST   NaN   \n",
       "\n",
       "          1961       1962       1963       1964       1965  ...        2011  \\\n",
       "261  88.729678  91.301552  93.873427  96.445302  99.017176  ...  164.508129   \n",
       "\n",
       "           2012        2013        2014        2015        2016        2017  \\\n",
       "261  165.987508  166.998898  166.507853  164.250574  163.273353  164.508404   \n",
       "\n",
       "     2018  2019  2020  \n",
       "261   NaN   NaN   NaN  \n",
       "\n",
       "[1 rows x 65 columns]"
      ]
     },
     "execution_count": 120,
     "metadata": {},
     "output_type": "execute_result"
    }
   ],
   "source": [
    "kv: pd.DataFrame = pd.read_csv(\"world_population.csv\")\n",
    "    \n",
    "kv = kv[kv[\"Country Name\"] == \"Kosovo\"]\n",
    "\n",
    "kv"
   ]
  },
  {
   "cell_type": "markdown",
   "metadata": {},
   "source": [
    "#### Last available is 2017, so we take that"
   ]
  },
  {
   "cell_type": "code",
   "execution_count": 128,
   "metadata": {},
   "outputs": [],
   "source": [
    "wp.iloc[260,2] = kv.iloc[0,61]"
   ]
  },
  {
   "cell_type": "code",
   "execution_count": 130,
   "metadata": {
    "scrolled": true
   },
   "outputs": [
    {
     "data": {
      "text/plain": [
       "Country Name    0\n",
       "Country Code    0\n",
       "2020            0\n",
       "dtype: int64"
      ]
     },
     "execution_count": 130,
     "metadata": {},
     "output_type": "execute_result"
    }
   ],
   "source": [
    "wp.isnull().sum()"
   ]
  },
  {
   "cell_type": "markdown",
   "metadata": {},
   "source": [
    "### Now we have no null values, and the file is ready to use"
   ]
  },
  {
   "cell_type": "code",
   "execution_count": 135,
   "metadata": {},
   "outputs": [],
   "source": [
    "wp.to_csv(\"world_pop.csv\", sep=',', encoding='utf-8')"
   ]
  },
  {
   "cell_type": "code",
   "execution_count": null,
   "metadata": {},
   "outputs": [],
   "source": []
  },
  {
   "cell_type": "code",
   "execution_count": null,
   "metadata": {},
   "outputs": [],
   "source": [
    "wp: pd.DataFrame = pd.read_csv(\"world_population.csv\")\n",
    "    \n",
    "#drop columns of unused years\n",
    "wp.drop(wp.iloc[:, 2:64], inplace = True, axis = 1)\n",
    "\n",
    "\n",
    "# we drop \"Not classified\"\n",
    "\n",
    "wp = wp[wp[\"Country Name\"] != \"Not classified\"]"
   ]
  },
  {
   "cell_type": "code",
   "execution_count": null,
   "metadata": {},
   "outputs": [],
   "source": []
  }
 ],
 "metadata": {
  "kernelspec": {
   "display_name": "Python 3",
   "language": "python",
   "name": "python3"
  },
  "language_info": {
   "codemirror_mode": {
    "name": "ipython",
    "version": 3
   },
   "file_extension": ".py",
   "mimetype": "text/x-python",
   "name": "python",
   "nbconvert_exporter": "python",
   "pygments_lexer": "ipython3",
   "version": "3.8.3"
  }
 },
 "nbformat": 4,
 "nbformat_minor": 1
}
